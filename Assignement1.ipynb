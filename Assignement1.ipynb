{
 "cells": [
  {
   "attachments": {},
   "cell_type": "markdown",
   "metadata": {},
   "source": [
    "\"\"\"\n",
    "Write a program that gradually reverses the given string. Read the string from a keyboard using input() function. \n",
    "Suppose if user enters Abid then your program prints:\n",
    "bidA\n",
    "idAb\n",
    "dAbi\n",
    "Abid\n",
    "\"\"\""
   ]
  },
  {
   "cell_type": "code",
   "execution_count": 12,
   "metadata": {},
   "outputs": [],
   "source": [
    "def Shifting(str):\n",
    "    for i in range(0,len(str)):\n",
    "        str2 = str[ : i+1]\n",
    "        str3 = str[i+1 : ]\n",
    "        print(str3 + str2)"
   ]
  },
  {
   "cell_type": "code",
   "execution_count": 13,
   "metadata": {},
   "outputs": [
    {
     "name": "stdout",
     "output_type": "stream",
     "text": [
      "Input String :  Rizwan\n",
      "izwanR\n",
      "zwanRi\n",
      "wanRiz\n",
      "anRizw\n",
      "nRizwa\n",
      "Rizwan\n"
     ]
    }
   ],
   "source": [
    "str1 = input(\"Please String : \")\n",
    "print(\"Input String : \",str1)\n",
    "Shifting(str1)"
   ]
  }
 ],
 "metadata": {
  "kernelspec": {
   "display_name": "Python 3",
   "language": "python",
   "name": "python3"
  },
  "language_info": {
   "codemirror_mode": {
    "name": "ipython",
    "version": 3
   },
   "file_extension": ".py",
   "mimetype": "text/x-python",
   "name": "python",
   "nbconvert_exporter": "python",
   "pygments_lexer": "ipython3",
   "version": "3.11.1"
  },
  "orig_nbformat": 4,
  "vscode": {
   "interpreter": {
    "hash": "a4350fddac4eebf917bc1b19a6ad4b265e9a42ba0ba0e969f5bb0ff703b63c00"
   }
  }
 },
 "nbformat": 4,
 "nbformat_minor": 2
}
